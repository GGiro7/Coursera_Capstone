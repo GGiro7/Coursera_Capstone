{
 "cells": [
  {
   "cell_type": "markdown",
   "metadata": {},
   "source": [
    "# The Battle of the Neighborhoods - São Paulo - Brazil\n",
    "### Applied Data Science Capstone"
   ]
  },
  {
   "cell_type": "markdown",
   "metadata": {},
   "source": [
    "## Table of contents\n",
    "* [Introduction: Business Problem](#introduction)"
   ]
  },
  {
   "cell_type": "markdown",
   "metadata": {},
   "source": [
    "## Introduction: Business Problem <a name=\"introduction\"></a>"
   ]
  },
  {
   "cell_type": "markdown",
   "metadata": {},
   "source": [
    "Currently, in the consumption of pizza, the city of São Paulo only loses to New York, where it competes fiercely for the title of world capital of pizza.\n",
    "\n",
    "This project aims to find the best place to open a **Pizza Place** in the city of **São Paulo**.\n",
    "\n",
    "Since there are so many pizza places in town, let's use data science to understand the best locations for a new pizza place. Based on the main central neighborhoods of São Paulo, we will try to detect the number of existing pizzerias, categorize them in nearby groups and based on the number of inhabitants of the region, define which are the best places to be chosen by the interested parties to the new emprendiment."
   ]
  }
 ],
 "metadata": {
  "celltoolbar": "Raw Cell Format",
  "kernelspec": {
   "display_name": "Python 3",
   "language": "python",
   "name": "python3"
  },
  "language_info": {
   "codemirror_mode": {
    "name": "ipython",
    "version": 3
   },
   "file_extension": ".py",
   "mimetype": "text/x-python",
   "name": "python",
   "nbconvert_exporter": "python",
   "pygments_lexer": "ipython3",
   "version": "3.7.3"
  }
 },
 "nbformat": 4,
 "nbformat_minor": 2
}
